{
 "cells": [
  {
   "cell_type": "code",
   "execution_count": 6,
   "metadata": {},
   "outputs": [],
   "source": [
    "from splinter import Browser\n",
    "from bs4 import BeautifulSoup\n",
    "from webdriver_manager.chrome import ChromeDriverManager\n",
    "import pandas as pd"
   ]
  },
  {
   "cell_type": "code",
   "execution_count": 7,
   "metadata": {},
   "outputs": [],
   "source": [
    "# Choose the executable path to driver \n",
    "executable_path = {'executable_path': 'chromedriver.exe'}\n",
    "browser = Browser('chrome', **executable_path, headless=True)"
   ]
  },
  {
   "cell_type": "markdown",
   "metadata": {},
   "source": [
    "## Insider Scraping"
   ]
  },
  {
   "cell_type": "code",
   "execution_count": 8,
   "metadata": {},
   "outputs": [],
   "source": [
    "# Open desired site in browser with splinter\n",
    "url = 'https://www.insider.com/best-songs-every-year-2017-8'\n",
    "browser.visit(url)"
   ]
  },
  {
   "cell_type": "code",
   "execution_count": 9,
   "metadata": {},
   "outputs": [],
   "source": [
    "# HTML Object and Beautiful Soup Parseing\n",
    "html = browser.html\n",
    "soup = BeautifulSoup(html, 'html.parser')"
   ]
  },
  {
   "cell_type": "code",
   "execution_count": 10,
   "metadata": {},
   "outputs": [
    {
     "name": "stdout",
     "output_type": "stream",
     "text": [
      "[[' \"I\\'ll Never Smile Again\" ', ' Tommy Dorsey', '1940'], [' \"Amapola (Pretty Little Poppy)\" ', ' Jimmy Dorsey', '1941'], [' \"White Christmas\" ', ' Bing Crosby', '1942'], [' \"I\\'ve Heard That Song Before\" ', ' Harry James', '1943'], [' \"Swinging on a Star\" ', ' Bing Crosby', '1944'], [' \"\\'Till the End of Time\" ', ' Perry Como', '1945'], [' \"The Gypsy\" ', ' The Ink Spots', '1946'], [' \"Near You\" ', ' Francis Craig', '1947'], [' \"Buttons and Bows\" ', ' Dinah Shore', '1948'], [' \"Riders in the Sky (A Cowboy Legend) ', ' Vaughn Monroe', '1949'], [' \"Goodnight, Irene\" ', ' Gordon Jenkins and The Weavers', '1950'], [' \"Too Young\" ', ' Nat King Cole', '1951'], [' \"Blue Tango\" ', ' Leroy Anderson', '1952'], [' \"The Song From Moulin Rouge (Where Is Your Heart)\" ', ' Percy Faith', '1953'], [' \"Little Things Mean A Lot\" ', ' Kitty Kallen', '1954'], [' \"Cherry Pink (and Apple Blossom White)\"', ' Pérez Prado', '1955'], [' \"Heartbreak Hotel\" ', ' Elvis Presley', '1956'], [' \"All Shook Up\" ', ' Elvis Presley', '1957'], [' \"Nel Blu Dipinto di Blu (Volare)\" ', ' Domenico Modugno', '1958'], [' \"The Battle of New Orleans\" ', ' Johnny Horton', '1959'], [' \"Theme From a Summer Place\" ', ' Percy Faith', '1960'], [' \"Tossin\\' and Turnin\\'\" ', ' Bobby Lewis', '1961'], [' \"Big Girls Don\\'t Cry\" ', ' Frankie Valli and the Four Seasons', '1962'], [' \"Surfin\\' U.S.A.\" ', ' The Beach Boys', '1963'], [' \"I Want to Hold Your Hand\" ', ' The Beatles', '1964'], [' \"I Can\\'t Help Myself\" ', ' Four Tops', '1965'], [' \"The Ballad of the Green Berets\" ', ' Staff Sergeant Barry Allen Sadler', '1966'], [' \"Respect\" ', ' Aretha Franklin', '1967'], [' \"Hey Jude\" ', ' The Beatles', '1968'], [' \"Sugar, Sugar\" ', ' The Archies', '1969'], [' \"Bridge Over Troubled Water\" ', ' Simon & Garfunkel', '1970'], [' \"Joy to the World\" ', ' Three Dog Night', '1971'], [' \"Let\\'s Stay Together\" ', ' Al Green', '1972'], [' \"Let\\'s Get It On\" ', ' Marvin Gaye', '1973'], [' \"The Way We Were\" ', ' Barbra Streisand', '1974'], [' \"Love Will Keep Us Together\" ', ' Captain & Tennille', '1975'], [' \"Silly Love Songs\" ', ' Wings', '1976'], [' \"Tonight\\'s The Night (Gonna Be Alright)\" ', ' Rod Stewart', '1977'], [' \"Shadow Dancing\" ', ' Andy Gibb', '1978'], [' \"My Sharona\" ', ' The Knack', '1979'], [' \"Call Me\" ', ' Blondie', '1980'], [' \"Bette Davis Eyes\" ', ' Kim Carnes', '1981'], [' \"Physical\" ', ' Olivia Newton-John', '1982'], [' \"Every Breath You Take\" ', ' The Police', '1983'], [' \"When Doves Cry\" ', ' Prince', '1984'], [' \"Careless Whisper\" ', ' George Michael', '1985'], [' \"That\\'s What Friends Are For\" ', ' Dionne Warwick featuring Elton John, Gladys Knight, and Stevie Wonder', '1986'], [' \"Walk Like An Egyptian\" ', ' The Bangles', '1987'], [' \"Faith\" ', ' George Michael', '1988'], [' \"Look Away\" ', ' Chicago', '1989'], [' \"Hold On\" ', ' Wilson Phillips', '1990'], [' \"(Everything I Do) I Do It For You\" ', ' Bryan Adams', '1991'], [' \"End Of The Road\" ', ' Boyz II Men', '1992'], [' \"I Will Always Love You\" ', ' Whitney Houston', '1993'], [' \"The Sign\" ', ' Ace of Base', '1994'], [' \"Gangsta\\'s Paradise\" ', ' Coolio featuring L.V.', '1995'], [' \"Macarena\" ', ' Los del Rio', '1996'], [' \"Something About The Way You Look Tonight\" ', ' Elton John', '1997'], [' \"Too Close\" ', ' Next', '1998'], [' \"Believe\" ', ' Cher', '1999'], [' \"Breathe\" ', ' Faith Hill', '2000'], [' \"Hanging By A Moment\" ', ' Lifehouse', '2001'], [' \"How You Remind Me\" ', ' Nickelback', '2002'], [' \"In Da Club\" ', ' 50 Cent', '2003'], [' \"Yeah!\" ', \" Usher featuring Lil' Jon and Ludacris\", '2004'], [' \"We Belong Together\" ', ' Mariah Carey', '2005'], [' \"Bad Day\" ', ' Daniel Powter', '2006'], [' \"Irreplaceable\" ', ' Beyoncé', '2007'], [' \"Low\" ', ' Flo Rida featuring T-Pain', '2008'], [' \"Boom Boom Pow\" ', ' The Black Eyed Peas', '2009'], [' \"TiK ToK\" ', ' Kesha', '2010'], [' \"Rolling In The Deep\" ', ' Adele', '2011'], [' \"Somebody That I Used To Know\" ', ' Gotye featuring Kimbra', '2012'], [' \"Thrift Shop\" ', ' Macklemore & Ryan Lewis featuring Wanz', '2013'], [' \"Happy\" ', ' Pharrell Williams', '2014'], [' \"See You Again\" ', ' Wiz Khalifa featuring Charlie Puth', '2015'], [' \"Love Yourself\" ', ' Justin Bieber', '2016'], [' \"Despacito\" ', ' Luis Fonsi and Daddy Yankee featuring Justin Bieber', '2017'], [' \"God\\'s Plan\" ', ' Drake', '2018']]\n"
     ]
    }
   ],
   "source": [
    "# Retrieve and collect all desired data\n",
    "insider = soup.find_all('h2', class_='slide-title-text')\n",
    "\n",
    "insider_list = []\n",
    "temp_list = []\n",
    "\n",
    "for i in insider:\n",
    "    year = i.text.split(\":\")[0]\n",
    "    title= i.text.split(\":\")[1]\n",
    "    title = title.split(\"—\")[0]\n",
    "    artist = i.text.split(\"—\")[1]\n",
    "    temp_list.append(title)\n",
    "    temp_list.append(artist)\n",
    "    temp_list.append(year)\n",
    "    insider_list.append(temp_list)\n",
    "    temp_list = []\n",
    "    \n",
    "print(insider_list)"
   ]
  },
  {
   "cell_type": "code",
   "execution_count": 11,
   "metadata": {},
   "outputs": [
    {
     "data": {
      "text/html": [
       "<div>\n",
       "<style scoped>\n",
       "    .dataframe tbody tr th:only-of-type {\n",
       "        vertical-align: middle;\n",
       "    }\n",
       "\n",
       "    .dataframe tbody tr th {\n",
       "        vertical-align: top;\n",
       "    }\n",
       "\n",
       "    .dataframe thead th {\n",
       "        text-align: right;\n",
       "    }\n",
       "</style>\n",
       "<table border=\"1\" class=\"dataframe\">\n",
       "  <thead>\n",
       "    <tr style=\"text-align: right;\">\n",
       "      <th></th>\n",
       "      <th>Title</th>\n",
       "      <th>Artist</th>\n",
       "      <th>Year</th>\n",
       "      <th>Source</th>\n",
       "    </tr>\n",
       "  </thead>\n",
       "  <tbody>\n",
       "    <tr>\n",
       "      <th>0</th>\n",
       "      <td>\"I'll Never Smile Again\"</td>\n",
       "      <td>Tommy Dorsey</td>\n",
       "      <td>1940</td>\n",
       "      <td>Insider #1 Song of Year</td>\n",
       "    </tr>\n",
       "    <tr>\n",
       "      <th>1</th>\n",
       "      <td>\"Amapola (Pretty Little Poppy)\"</td>\n",
       "      <td>Jimmy Dorsey</td>\n",
       "      <td>1941</td>\n",
       "      <td>Insider #1 Song of Year</td>\n",
       "    </tr>\n",
       "    <tr>\n",
       "      <th>2</th>\n",
       "      <td>\"White Christmas\"</td>\n",
       "      <td>Bing Crosby</td>\n",
       "      <td>1942</td>\n",
       "      <td>Insider #1 Song of Year</td>\n",
       "    </tr>\n",
       "    <tr>\n",
       "      <th>3</th>\n",
       "      <td>\"I've Heard That Song Before\"</td>\n",
       "      <td>Harry James</td>\n",
       "      <td>1943</td>\n",
       "      <td>Insider #1 Song of Year</td>\n",
       "    </tr>\n",
       "    <tr>\n",
       "      <th>4</th>\n",
       "      <td>\"Swinging on a Star\"</td>\n",
       "      <td>Bing Crosby</td>\n",
       "      <td>1944</td>\n",
       "      <td>Insider #1 Song of Year</td>\n",
       "    </tr>\n",
       "  </tbody>\n",
       "</table>\n",
       "</div>"
      ],
      "text/plain": [
       "                               Title         Artist  Year  \\\n",
       "0          \"I'll Never Smile Again\"    Tommy Dorsey  1940   \n",
       "1   \"Amapola (Pretty Little Poppy)\"    Jimmy Dorsey  1941   \n",
       "2                 \"White Christmas\"     Bing Crosby  1942   \n",
       "3     \"I've Heard That Song Before\"     Harry James  1943   \n",
       "4              \"Swinging on a Star\"     Bing Crosby  1944   \n",
       "\n",
       "                    Source  \n",
       "0  Insider #1 Song of Year  \n",
       "1  Insider #1 Song of Year  \n",
       "2  Insider #1 Song of Year  \n",
       "3  Insider #1 Song of Year  \n",
       "4  Insider #1 Song of Year  "
      ]
     },
     "execution_count": 11,
     "metadata": {},
     "output_type": "execute_result"
    }
   ],
   "source": [
    "#\n",
    "insider_df = pd.DataFrame(insider_list, columns = [\"Title\",\"Artist\", \"Year\"])\n",
    "insider_df[\"Source\"] = \"Insider #1 Song of Year\"\n",
    "insider_df.head()"
   ]
  },
  {
   "cell_type": "code",
   "execution_count": 12,
   "metadata": {},
   "outputs": [],
   "source": [
    "browser.quit()"
   ]
  },
  {
   "cell_type": "code",
   "execution_count": null,
   "metadata": {},
   "outputs": [],
   "source": []
  }
 ],
 "metadata": {
  "kernelspec": {
   "display_name": "Python [conda env:PythonData] *",
   "language": "python",
   "name": "conda-env-PythonData-py"
  },
  "language_info": {
   "codemirror_mode": {
    "name": "ipython",
    "version": 3
   },
   "file_extension": ".py",
   "mimetype": "text/x-python",
   "name": "python",
   "nbconvert_exporter": "python",
   "pygments_lexer": "ipython3",
   "version": "3.6.10"
  }
 },
 "nbformat": 4,
 "nbformat_minor": 4
}
